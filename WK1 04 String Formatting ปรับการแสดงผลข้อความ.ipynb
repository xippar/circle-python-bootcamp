{
 "cells": [
  {
   "cell_type": "markdown",
   "metadata": {},
   "source": [
    "# การแสดงผลข้อมูล"
   ]
  },
  {
   "cell_type": "markdown",
   "metadata": {},
   "source": [
    "การแสดงผลข้อมูลเป็นเทคนิคที่ช่วยให้เราสามารถรับรู้ความเป็นไปของข้อมูล การทำงานของคำสั่งต่างๆ ใช้ได้ทั้งการสื่อสารระหว่างคอมพิวเตอร์กับผู้ใช้ และการตรวจสอบเพื่อป้องกันการทำงานผิดพลาด"
   ]
  },
  {
   "cell_type": "markdown",
   "metadata": {},
   "source": [
    "คำสั่งที่ใช้แสดงผล คือคำสั่ง print() นั่นเอง ซึ่งที่เราต้องใช้คำสั่งเพราะ Jupyter Notebook จะมีการแสดงผลข้อมูลที่สร้างจากบรรทัดสุดท้ายเท่านั้น ทำให้เราไม่สามารถตรวจสอบคำสั่ง ข้อมูลที่มีการทำงานหลายคำสั่งต่อเนื่อง"
   ]
  },
  {
   "cell_type": "markdown",
   "metadata": {},
   "source": [
    "โดยคำสั่ง print() สามารถใช้งานร่วมกับได้แทบทุก object ที่มีให้เลือกใช้ของ Python แต่ string จะเป็น object ที่มีเทคนิคต่างๆ ที่สามารถใช้ร่วมกับคำสั่ง print() เพื่อปรับการแสดงผลให้มีการสื่อสารได้ดีขึ้น"
   ]
  },
  {
   "cell_type": "markdown",
   "metadata": {},
   "source": [
    "ลักษณะการใช้ print()"
   ]
  },
  {
   "cell_type": "code",
   "execution_count": 1,
   "metadata": {},
   "outputs": [
    {
     "name": "stdout",
     "output_type": "stream",
     "text": [
      "hello world\n"
     ]
    }
   ],
   "source": [
    "print('hello world')"
   ]
  },
  {
   "cell_type": "markdown",
   "metadata": {},
   "source": [
    "# String Formmatting การปรับข้อความ"
   ]
  },
  {
   "cell_type": "markdown",
   "metadata": {},
   "source": [
    "สำหรับการแสดงผลข้อมูลที่ใช้ string เป็นหลัก เรามีคำสั่งเพิ่มเติมที่สามารถใช้เพื่อปรับแต่งการแสดงผลให้ตอบโจทย์ การสื่อสารระหว่างคอมพิวเตอร์ และผู้ใช้ได้อย่างมีประสิทธิภาพมากข้น"
   ]
  },
  {
   "cell_type": "markdown",
   "metadata": {},
   "source": [
    "## อักษรพิเศษ"
   ]
  },
  {
   "cell_type": "markdown",
   "metadata": {},
   "source": [
    "string นอกจากจะเก็บข้อมูลตัวหนังสือแล้ว ยังมีอักษรพิเศษที่ใช้เพื่อจัดการข้อความให้อยู่ในรูปแบบที่ต้องการ เช่น การเว้นช่องว่าง การขึ้นบรรทัดใหม่ ที่ใช้สัญลักษณ์ \\t \\n ตามลำดับเพื่อทำงานร่วมกับคำสั่ง print() ในการแสดงผลการจัดระเบียบข้อความ"
   ]
  },
  {
   "cell_type": "markdown",
   "metadata": {},
   "source": [
    "การใช้ \\n สร้างการขึ้นบรรทัดใหม่"
   ]
  },
  {
   "cell_type": "code",
   "execution_count": 8,
   "metadata": {},
   "outputs": [
    {
     "name": "stdout",
     "output_type": "stream",
     "text": [
      "first paragraph\n",
      "second paragraph\n"
     ]
    }
   ],
   "source": [
    "print('first paragraph\\nsecond paragraph')"
   ]
  },
  {
   "cell_type": "markdown",
   "metadata": {},
   "source": [
    "การใช้ \\t สร้างการเว้นช่องว่าง"
   ]
  },
  {
   "cell_type": "code",
   "execution_count": 10,
   "metadata": {},
   "outputs": [
    {
     "name": "stdout",
     "output_type": "stream",
     "text": [
      "\tfirst paragraph\n"
     ]
    }
   ],
   "source": [
    "print('\\tfirst paragraph')"
   ]
  },
  {
   "cell_type": "markdown",
   "metadata": {},
   "source": [
    "## raw string"
   ]
  },
  {
   "cell_type": "markdown",
   "metadata": {},
   "source": [
    "คือการแปล string เพื่อลบคำสั่งของอักษรพิเศษต่างๆ ผ่านการใช้ r'' นำหน้า string ในลักษณะดังกล่าว ทำให้มีผลลบล้างผลของอักษรพิเศษต่างๆ ซึ่งอาจเรียกได้ว่าเป็นการทำ r-string หรือการนำ r มานำหน้า string"
   ]
  },
  {
   "cell_type": "markdown",
   "metadata": {},
   "source": [
    "การใช้ r-string"
   ]
  },
  {
   "cell_type": "code",
   "execution_count": 12,
   "metadata": {},
   "outputs": [
    {
     "name": "stdout",
     "output_type": "stream",
     "text": [
      "first paragraph\\nsecond paragraph\n"
     ]
    }
   ],
   "source": [
    "print(r'first paragraph\\nsecond paragraph')"
   ]
  },
  {
   "cell_type": "markdown",
   "metadata": {},
   "source": [
    "## f-string"
   ]
  },
  {
   "cell_type": "markdown",
   "metadata": {},
   "source": [
    "เป็นการนำ string มาผสมรวมกับข้อมูลใน ตัวแปร ช่วยสร้างการส่งข้อมูล ข้อความที่มีการเปลี่ยนแปลงค่าตัวแปรที่เปลี่ยนไป"
   ]
  },
  {
   "cell_type": "markdown",
   "metadata": {},
   "source": [
    "สร้างตัวแปร name"
   ]
  },
  {
   "cell_type": "code",
   "execution_count": 13,
   "metadata": {},
   "outputs": [],
   "source": [
    "name = 'Xippar'"
   ]
  },
  {
   "cell_type": "markdown",
   "metadata": {},
   "source": [
    "รวมตัวแปรกับ string ด้วย f-string"
   ]
  },
  {
   "cell_type": "code",
   "execution_count": 14,
   "metadata": {},
   "outputs": [
    {
     "data": {
      "text/plain": [
       "'Greeting!, Xippar'"
      ]
     },
     "execution_count": 14,
     "metadata": {},
     "output_type": "execute_result"
    }
   ],
   "source": [
    "f'Greeting!, {name}'"
   ]
  },
  {
   "cell_type": "markdown",
   "metadata": {},
   "source": [
    "# Float Formmatting การปรับการแสดงผลตัวเลข"
   ]
  },
  {
   "cell_type": "markdown",
   "metadata": {},
   "source": [
    "การทำงานกับ float ที่เหนือกว่าแค่การใช้ integer คือการที่ float สามารถปรับการแสดงผลด้วย f-string ได้"
   ]
  },
  {
   "cell_type": "markdown",
   "metadata": {},
   "source": [
    "สร้างตัวแปรเก็บราคา"
   ]
  },
  {
   "cell_type": "code",
   "execution_count": 19,
   "metadata": {},
   "outputs": [],
   "source": [
    "gold_price = 28600.5468468"
   ]
  },
  {
   "cell_type": "markdown",
   "metadata": {},
   "source": [
    "ปรับการแสดงทศนิยมให้แสดง 2 ตำแหน่ง เราจะใช้คำสั่ง :.2f เติมเข้าไปหลังตัวแปรที่อยู่ใน f-string"
   ]
  },
  {
   "cell_type": "code",
   "execution_count": 20,
   "metadata": {},
   "outputs": [
    {
     "name": "stdout",
     "output_type": "stream",
     "text": [
      "Gold Price: 28600.55\n"
     ]
    }
   ],
   "source": [
    "print(f'Gold Price: {gold_price:.2f}')"
   ]
  },
  {
   "cell_type": "markdown",
   "metadata": {},
   "source": [
    "เพิ่มการใช้ , สำหรับหลักพันเข้าไป ใช้การเติม , ลงไปในส่วนกาปรับการแสดงผล เราจะใช้คำสั่ง :,.2f เติมเข้าไปหลังตัวแปรที่อยู่ใน f-string"
   ]
  },
  {
   "cell_type": "code",
   "execution_count": 22,
   "metadata": {},
   "outputs": [
    {
     "name": "stdout",
     "output_type": "stream",
     "text": [
      "\n",
      "Gold Price: 28,600.55\n",
      "\n"
     ]
    }
   ],
   "source": [
    "print(f'\\nGold Price: {gold_price:,.2f}\\n')"
   ]
  }
 ],
 "metadata": {
  "kernelspec": {
   "display_name": "Python 3",
   "language": "python",
   "name": "python3"
  },
  "language_info": {
   "codemirror_mode": {
    "name": "ipython",
    "version": 3
   },
   "file_extension": ".py",
   "mimetype": "text/x-python",
   "name": "python",
   "nbconvert_exporter": "python",
   "pygments_lexer": "ipython3",
   "version": "3.7.7"
  }
 },
 "nbformat": 4,
 "nbformat_minor": 4
}
