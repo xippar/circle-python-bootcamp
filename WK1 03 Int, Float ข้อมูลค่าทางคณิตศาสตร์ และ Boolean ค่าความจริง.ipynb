{
 "cells": [
  {
   "cell_type": "markdown",
   "metadata": {},
   "source": [
    "# ค่าทางคณิตศาสตร์"
   ]
  },
  {
   "cell_type": "markdown",
   "metadata": {},
   "source": [
    "ไม่ใช่ทุกตัวเลขจะเป็นเลขที่สามารถนำมาคำนวนค่าทางคณิตศาสตร์ได้ เพราะตัวเลขเองก็สามารถเป็นข้อมูลที่ถูกเก็บใน string object ที่มีลักษณะการเก็บเป็นข้อมูลตัวหนังสือได้ แต่หากพูดถึงข้อมูลทางคณิตศาสตร์ใน Python จะนิยมใช้ object อยู่ 2 อย่างนั่นคือ Integer, Float"
   ]
  },
  {
   "cell_type": "markdown",
   "metadata": {},
   "source": [
    "## Integer จำนวนเต็ม"
   ]
  },
  {
   "cell_type": "markdown",
   "metadata": {},
   "source": [
    "สำหรับจำนวนเต็มจะถูกเก็บไว้ใน integer object และสำหรับตัวเลขจำนวนเต็มใดๆ สามารถเขียนใส่ code cell เพื่อสร้างเป็น Integer ได้ทันที โดยไม่ต้องมีสัญลักษณ์บ่งชี้เพิ่มเติม และข้อมูลที่ได้จะมีค่าทางคณิตศาสตร์ทันที"
   ]
  },
  {
   "cell_type": "code",
   "execution_count": 1,
   "metadata": {},
   "outputs": [
    {
     "data": {
      "text/plain": [
       "10"
      ]
     },
     "execution_count": 1,
     "metadata": {},
     "output_type": "execute_result"
    }
   ],
   "source": [
    "10"
   ]
  },
  {
   "cell_type": "markdown",
   "metadata": {},
   "source": [
    "## Float จำนวนทศนิยม"
   ]
  },
  {
   "cell_type": "markdown",
   "metadata": {},
   "source": [
    "ในจำนวนทศนิยมของ Python จะมีการแบ่งออกจาก integer ง่ายๆ นั่นคือมีการใช้สัญลักษณ์ . หรือเปล่า ซึ่ง . จะเป็นสัญลักษณ์บ่งชี้สำคัญที่บอกว่าค่าทางคณิตศาสตร์ที่กำลังทำงานด้วยจะเป็น object ประเภทใด ซึ่งหากมีจุดจะเป็น Float แม้จะมีค่าเป็นจำนวนเต็มก็ตาม"
   ]
  },
  {
   "cell_type": "code",
   "execution_count": 5,
   "metadata": {},
   "outputs": [
    {
     "data": {
      "text/plain": [
       "10.0"
      ]
     },
     "execution_count": 5,
     "metadata": {},
     "output_type": "execute_result"
    }
   ],
   "source": [
    "10."
   ]
  },
  {
   "cell_type": "markdown",
   "metadata": {},
   "source": [
    "## ข้อสังเกต"
   ]
  },
  {
   "cell_type": "markdown",
   "metadata": {},
   "source": [
    "แม้ integer และ float มองเผินๆ ในด้านค่าทางคณิตศาสตร์อาจไม่มีความแตกต่างกันมากนัก แต่หากมองในเชิงทรัพยากรที่จะต้องใช้เพื่อจัดการข้อมูลสองอย่างนี้ จะพบว่า float เป็น object ที่ใช้ทรัพยากรมากกว่าเป็นอย่างมากเพราะจริงๆ แล้ว float มีความสามารถในการปรับแต่งข้อมูลค่าทศนิยมเพิ่มเข้ามาด้วย ทำให้หากมีการคำนวนจำนวนมาก จะนิยมแปลง float ให้อยู่ในรูป integer มากกว่า"
   ]
  },
  {
   "cell_type": "markdown",
   "metadata": {},
   "source": [
    "# การคำนวนทางคณิตศาสตร์"
   ]
  },
  {
   "cell_type": "markdown",
   "metadata": {},
   "source": [
    "เราสามารถนำค่าทางคณิตศาสตร์มาบวก ลบ คูณ หาร หารหาเศษ หารปัดเศษลง เพื่อนำตัวเลขมาคำนวนได้ด้วยสัญลักษณ์สำหรับการคำนวน + - * / % และ // ตามลำดับ"
   ]
  },
  {
   "cell_type": "code",
   "execution_count": 4,
   "metadata": {},
   "outputs": [
    {
     "data": {
      "text/plain": [
       "20.0"
      ]
     },
     "execution_count": 4,
     "metadata": {},
     "output_type": "execute_result"
    }
   ],
   "source": [
    "100 / 5"
   ]
  },
  {
   "cell_type": "markdown",
   "metadata": {},
   "source": [
    "## Boolean"
   ]
  },
  {
   "cell_type": "markdown",
   "metadata": {},
   "source": [
    "เป็น object ที่เก็บค่าความจริงที่เป็นไปได้แค่ 2 ค่าเท่านั้น นั่นคือ True และ False"
   ]
  },
  {
   "cell_type": "markdown",
   "metadata": {},
   "source": [
    "### การสร้าง Boolean ผ่านการเปรียบเทียบ"
   ]
  },
  {
   "cell_type": "markdown",
   "metadata": {},
   "source": [
    "การเปรียบเทียบ ผ่านเครื่องมือเช่น มากกว่า น้อยกว่า เท่ากับ ไม่เท่ากับ ผ่านสัญลักษณ์เช่น > < == != จะได้ผลลัพธ์ออกมาเป็น boolean object ที่จะเป็นไปได้ 2 ค่าเท่านั้น นั่นคือ True และ False ลักษณะเดียวกันกับตรรกศาสตร์ที่มีการสอนในระดับมัธยม"
   ]
  },
  {
   "cell_type": "markdown",
   "metadata": {},
   "source": [
    "ซึ่ง boolean เป็น object สำคัญที่ใช้ในการสร้างเงื่อนไข ซึ่งเงื่อนไขจะเข้ามามีบทบาทสำคัญในการรวบรวมคำสั่งต่างๆ เข้ามาประกอบกันให้กลายเป็น ระบบอัตโนมัติ ทำให้ boolean เป็น object ประเภทสำคัญไปโดยปริยาย"
   ]
  },
  {
   "cell_type": "code",
   "execution_count": 6,
   "metadata": {},
   "outputs": [
    {
     "data": {
      "text/plain": [
       "False"
      ]
     },
     "execution_count": 6,
     "metadata": {},
     "output_type": "execute_result"
    }
   ],
   "source": [
    "100 < 5"
   ]
  },
  {
   "cell_type": "markdown",
   "metadata": {},
   "source": [
    "### การสร้าง Boolean ด้วยการเขียน"
   ]
  },
  {
   "cell_type": "markdown",
   "metadata": {},
   "source": [
    "สำหรับคำสั่งในการสร้าง boolean โดยตรงเราจะเขียน True, False เพื่อสร้างค่า boolean ที่เก็บค่าจริง และค่าเท็จเอาไว้"
   ]
  },
  {
   "cell_type": "code",
   "execution_count": 8,
   "metadata": {},
   "outputs": [
    {
     "data": {
      "text/plain": [
       "True"
      ]
     },
     "execution_count": 8,
     "metadata": {},
     "output_type": "execute_result"
    }
   ],
   "source": [
    "True"
   ]
  },
  {
   "cell_type": "markdown",
   "metadata": {},
   "source": [
    "### การสร้าง Boolean ด้วยคำสั่ง\n"
   ]
  },
  {
   "cell_type": "markdown",
   "metadata": {},
   "source": [
    "สำหรับในหลายๆ กรณีเราสามารถใช้คำสั่งในรูปแบบต่างๆ เพื่อใช้สร้างเป็น boolean ตามเงื่อนไขที่ต้องการได้โดยต้องแปลงเป็นการเรียบเทียบให้ยุ่งยาก เช่น หากต้องการเช็คว่าตัวหนังสือใน string เป็นตัวเล็กทั้งหมดไหม ให้ใช้ .islower()"
   ]
  },
  {
   "cell_type": "markdown",
   "metadata": {},
   "source": [
    "#### การใช้ method สร้าง boolean"
   ]
  },
  {
   "cell_type": "code",
   "execution_count": 10,
   "metadata": {},
   "outputs": [
    {
     "data": {
      "text/plain": [
       "True"
      ]
     },
     "execution_count": 10,
     "metadata": {},
     "output_type": "execute_result"
    }
   ],
   "source": [
    "text = 'hello world'\n",
    "text.islower()"
   ]
  },
  {
   "cell_type": "markdown",
   "metadata": {},
   "source": [
    "#### การใช้ in สร้าง boolean"
   ]
  },
  {
   "cell_type": "markdown",
   "metadata": {},
   "source": [
    "อีกคำสั่งที่พบได้บ่อย คือ การใช้คำสั่งเพื่อเช็คว่ามีข้อมูลนี้อยู่ข้างใน object ที่สนใจหรือเปล่า อาจเช็คได้ผ่านคำสั่ง in ที่ใช้คั่นระหว่างข้อมูลที่ต้องการหาทางซ้ายมือ และข้อมูลที่เป็นที่ต้องค้นหาทางด้านขวามือ"
   ]
  },
  {
   "cell_type": "code",
   "execution_count": 11,
   "metadata": {},
   "outputs": [
    {
     "data": {
      "text/plain": [
       "True"
      ]
     },
     "execution_count": 11,
     "metadata": {},
     "output_type": "execute_result"
    }
   ],
   "source": [
    "'h' in 'hello'"
   ]
  }
 ],
 "metadata": {
  "kernelspec": {
   "display_name": "Python 3",
   "language": "python",
   "name": "python3"
  },
  "language_info": {
   "codemirror_mode": {
    "name": "ipython",
    "version": 3
   },
   "file_extension": ".py",
   "mimetype": "text/x-python",
   "name": "python",
   "nbconvert_exporter": "python",
   "pygments_lexer": "ipython3",
   "version": "3.7.7"
  }
 },
 "nbformat": 4,
 "nbformat_minor": 4
}
