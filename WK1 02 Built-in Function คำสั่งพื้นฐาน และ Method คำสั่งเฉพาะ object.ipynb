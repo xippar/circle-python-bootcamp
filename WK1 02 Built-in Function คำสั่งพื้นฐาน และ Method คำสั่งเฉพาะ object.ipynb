{
 "cells": [
  {
   "cell_type": "markdown",
   "metadata": {},
   "source": [
    "# Function คำสั่ง"
   ]
  },
  {
   "cell_type": "markdown",
   "metadata": {},
   "source": [
    "ใน Python มีหลากหลายประเภทที่เลือกใช้ได้ตามความเหมาะสม ซึ่งข้อดีของ Python คือมีคำสั่งสำเร็จรูปให้เลือกใช้จำนวนมาก มีความหลากหลายในหลายด้าน ทำให้การใช้งานครอบคลุม และเริ่มต้นใช้ประโยชน์ได้เร็ว นอกจากนี้ยังสามารถสร้าง function เป็นของตัวเองทำงานเฉพาะที่ต้องการได้อีกด้วย"
   ]
  },
  {
   "cell_type": "markdown",
   "metadata": {},
   "source": [
    "แต่วันนี้เราจะพูดถึง Function ที่เรียกใช้ได้ทันทีก่อน เพื่อเรียนรู้การทำงาน ประเภทที่ต้องรู้ และนำมาลองใช้เบื้องต้น"
   ]
  },
  {
   "cell_type": "markdown",
   "metadata": {},
   "source": [
    "## Built-in Function คำสั่งพื้นฐาน"
   ]
  },
  {
   "cell_type": "markdown",
   "metadata": {},
   "source": [
    "เป็นคำสั่งที่มาพร้อมกับตัว Python ทำให้สามารถเรียกใช้ได้ทันทีโดยไม่ต้องมีการเตรียมการใดๆ ซึ่งจะเป็นคำสั่งที่เป็นพื้นฐานมากๆ ทำงานง่ายๆ ซึ่งมักจะทำงานได้กับทุกข้อมูลโดยไม่มีระบุเฉพาะเจาะจงกับข้อมูลใดเป็นพิเศษ"
   ]
  },
  {
   "cell_type": "markdown",
   "metadata": {},
   "source": [
    "มาดูวิธีการเรียกใช้ built-in function พร้อมกับมารู้จักคำสั่งที่จะได้ใช้บ่อยๆ ไปพร้อมกัน"
   ]
  },
  {
   "cell_type": "markdown",
   "metadata": {},
   "source": [
    "### การเรียกใช้งาน function"
   ]
  },
  {
   "cell_type": "markdown",
   "metadata": {},
   "source": [
    "สามารถทำได้โดยการใช้การเรียกชื่อคำสั่งที่ต้องการ และตามด้วยสัญลักษณ์ () เพื่อเรียกใช้งาน ก่อนที่จะนำข้อมูลที่ทำงานด้วยใส่ลงไประหว่าง () โดยข้อมูลที่เราใส่เข้าไปใน function จะเรียกว่า argument ซึ่งตัว function เองก็เป็น object เช่นเดียวกัน แต่แทนที่จะเป็นโครงสร้างในการเก็บข้อมูล function เป็น object หรือโครงสร้างที่ใช้เก็บคำสั่งนั่นเอง"
   ]
  },
  {
   "cell_type": "markdown",
   "metadata": {},
   "source": [
    "คำสั่งให้ แสดงผล string ที่ต้องการด้วย print()"
   ]
  },
  {
   "cell_type": "code",
   "execution_count": 1,
   "metadata": {},
   "outputs": [
    {
     "name": "stdout",
     "output_type": "stream",
     "text": [
      "hello world\n"
     ]
    }
   ],
   "source": [
    "print('hello world')"
   ]
  },
  {
   "cell_type": "markdown",
   "metadata": {},
   "source": [
    "คำสั่งการนับจำนวนข้อมูลใน string ด้วย len()"
   ]
  },
  {
   "cell_type": "code",
   "execution_count": 2,
   "metadata": {},
   "outputs": [
    {
     "data": {
      "text/plain": [
       "11"
      ]
     },
     "execution_count": 2,
     "metadata": {},
     "output_type": "execute_result"
    }
   ],
   "source": [
    "len('hello world')"
   ]
  },
  {
   "cell_type": "markdown",
   "metadata": {},
   "source": [
    "คำสั่งในการหาค่า absolute ด้วย abs()"
   ]
  },
  {
   "cell_type": "code",
   "execution_count": 3,
   "metadata": {},
   "outputs": [
    {
     "data": {
      "text/plain": [
       "20"
      ]
     },
     "execution_count": 3,
     "metadata": {},
     "output_type": "execute_result"
    }
   ],
   "source": [
    "abs(-20)"
   ]
  },
  {
   "cell_type": "markdown",
   "metadata": {},
   "source": [
    "### built-in function ที่ใช้สร้าง object"
   ]
  },
  {
   "cell_type": "markdown",
   "metadata": {},
   "source": [
    "อีกกลุ่มสำคัญของ built-in function คือ function ที่ช่วยสร้าง object ที่ต้องการ หรือเปลี่ยนข้อมูลที่สนใจให้เป็น object ที่ต้องการเบื้องต้น"
   ]
  },
  {
   "cell_type": "markdown",
   "metadata": {},
   "source": [
    "สร้างข้อมูล string หรือเปลี่ยนข้อมูลเป็น string ด้วย str()"
   ]
  },
  {
   "cell_type": "code",
   "execution_count": 4,
   "metadata": {},
   "outputs": [
    {
     "data": {
      "text/plain": [
       "'10'"
      ]
     },
     "execution_count": 4,
     "metadata": {},
     "output_type": "execute_result"
    }
   ],
   "source": [
    "str(10)"
   ]
  },
  {
   "cell_type": "code",
   "execution_count": 5,
   "metadata": {},
   "outputs": [
    {
     "data": {
      "text/plain": [
       "''"
      ]
     },
     "execution_count": 5,
     "metadata": {},
     "output_type": "execute_result"
    }
   ],
   "source": [
    "str()"
   ]
  },
  {
   "cell_type": "markdown",
   "metadata": {},
   "source": [
    "สร้างข้อมูล integer หรือเปลี่ยนข้อมูลเป็น integer ด้วย int()"
   ]
  },
  {
   "cell_type": "code",
   "execution_count": 9,
   "metadata": {},
   "outputs": [
    {
     "data": {
      "text/plain": [
       "5"
      ]
     },
     "execution_count": 9,
     "metadata": {},
     "output_type": "execute_result"
    }
   ],
   "source": [
    "int('5')"
   ]
  },
  {
   "cell_type": "code",
   "execution_count": 7,
   "metadata": {},
   "outputs": [
    {
     "data": {
      "text/plain": [
       "0"
      ]
     },
     "execution_count": 7,
     "metadata": {},
     "output_type": "execute_result"
    }
   ],
   "source": [
    "int()"
   ]
  },
  {
   "cell_type": "markdown",
   "metadata": {},
   "source": [
    "สร้างข้อมูล float หรือเปลี่ยนข้อมูลเป็น float ด้วย float()"
   ]
  },
  {
   "cell_type": "code",
   "execution_count": 11,
   "metadata": {},
   "outputs": [
    {
     "data": {
      "text/plain": [
       "10.0"
      ]
     },
     "execution_count": 11,
     "metadata": {},
     "output_type": "execute_result"
    }
   ],
   "source": [
    "float('10.')"
   ]
  },
  {
   "cell_type": "code",
   "execution_count": 12,
   "metadata": {},
   "outputs": [
    {
     "data": {
      "text/plain": [
       "float"
      ]
     },
     "execution_count": 12,
     "metadata": {},
     "output_type": "execute_result"
    }
   ],
   "source": [
    "float"
   ]
  },
  {
   "cell_type": "markdown",
   "metadata": {},
   "source": [
    "สำหรับการแปลงข้อมูลพื้นฐาน ตัวหนังสือ ตัวเลข จะใช้ 3 คำสั่งด้านบน str(), int(), float() เป็นหลัก ที่จะช่วยแปลงข้อมูลแต่ละอย่างกลับไปกลับมาได้ง่ายๆ เนื่องจากในการทำงานจริงๆ แล้วเรื่องของการเลือก object ให้ถูกประเภท เหมาะสมกับสิ่งที่จะทำเป็นส่วนหนึ่งของการทำงานกับ Python เนื่องจากหลายๆ คำสั่งทำงานได้กับแค่บาง object เท่านั้น"
   ]
  },
  {
   "cell_type": "markdown",
   "metadata": {},
   "source": [
    "ซึ่งคำสั่งกลุ่มนี้ก็จะมีคำสั่งสำคัญๆ อื่นๆ เช่น list(), set() ที่เป็นการทำงานกับ object ที่เป็น data structure คือโครงสร้างข้อมูล ที่เราจะได้เรียนรู้ในบทเรียนถัดๆ ไป"
   ]
  },
  {
   "cell_type": "markdown",
   "metadata": {},
   "source": [
    "## Method คำสั่งเฉพาะ object"
   ]
  },
  {
   "cell_type": "markdown",
   "metadata": {},
   "source": [
    "จะเห็นได้ว่าคำสั่ง built-in function เป็นคำสั่งทั่วๆ ไปที่ไม่ได้มีการจัดการกับข้อมูล หรือ object มากนัก เพราะการทำงานกับ object หรือข้อมูลคนละประเภทใช้เครื่องมือ การจัดการที่ต่างกัน Python จึงมีการแบ่ง function ออกมาเป็นสิ่งที่เรียกว่า method หรือคือคำสั่งที่ใช้งานได้เฉพาะกับ object แต่ละประเภทเท่านั้น"
   ]
  },
  {
   "cell_type": "markdown",
   "metadata": {},
   "source": [
    "ซึ่ง method ถูกสร้างมาพร้อมกับโครงสร้าง object ของตัว python ดังนั้นสำหรับการทำงานกับ object ใดๆ เราจะสามารถเรียกใช้ method ได้ทันที ซึ่ง method จะรวบรวมคำสั่งที่เราทำงานกับข้อมูลต่างๆ ปรับ แก้ ใช้งาน และเป็นคำสั่งหลักที่เราจะใช้ทำงานกับข้อมูลด้วย"
   ]
  },
  {
   "cell_type": "markdown",
   "metadata": {},
   "source": [
    "### การใช้งาน method"
   ]
  },
  {
   "cell_type": "markdown",
   "metadata": {},
   "source": [
    "สำหรับการใช้งานเราจะต้องมีการเรียกใช้ข้อมูล หรือ object ที่สนใจทำงานด้วยก่อน ก่อนที่เราจะเรียกใช้ method ได้ โดยการเรียกใช้ method จะใช้สัญลักษณ์ . ตามหลัง object ที่กำลังจะทำงานด้วยและตามด้วย ชื่อของ method ที่ทำงานในสิ่งที่เราต้องการก่อนตามด้วย () ในลักษณะเดียวกับการเรียกใช้ built-in function"
   ]
  },
  {
   "cell_type": "markdown",
   "metadata": {},
   "source": [
    "สร้างตัวแปร greeting เก็บข้อมูล string object ที่เก็บคำว่า hello world เอาไว้"
   ]
  },
  {
   "cell_type": "code",
   "execution_count": 13,
   "metadata": {},
   "outputs": [],
   "source": [
    "greeting = 'hello world'"
   ]
  },
  {
   "cell_type": "markdown",
   "metadata": {},
   "source": [
    "การใช้ method เปลี่ยนข้อความให้เป็นตัวใหญ่ทั้งหมด ด้วย .upper()"
   ]
  },
  {
   "cell_type": "code",
   "execution_count": 14,
   "metadata": {},
   "outputs": [
    {
     "data": {
      "text/plain": [
       "'HELLO WORLD'"
      ]
     },
     "execution_count": 14,
     "metadata": {},
     "output_type": "execute_result"
    }
   ],
   "source": [
    "greeting.upper()"
   ]
  },
  {
   "cell_type": "markdown",
   "metadata": {},
   "source": [
    "การใช้ method ที่ทำให้ทุกตัวอักษรเป็นตัวเล็ก ด้วย .lower()"
   ]
  },
  {
   "cell_type": "code",
   "execution_count": 16,
   "metadata": {},
   "outputs": [
    {
     "data": {
      "text/plain": [
       "'hello world'"
      ]
     },
     "execution_count": 16,
     "metadata": {},
     "output_type": "execute_result"
    }
   ],
   "source": [
    "greeting.lower()"
   ]
  },
  {
   "cell_type": "markdown",
   "metadata": {},
   "source": [
    "การใช้ method ที่ทำให้ตัวแรกของแต่ละคำเป็นตัวใหญ่ ด้วย .title()"
   ]
  },
  {
   "cell_type": "code",
   "execution_count": 17,
   "metadata": {},
   "outputs": [
    {
     "data": {
      "text/plain": [
       "'Hello World'"
      ]
     },
     "execution_count": 17,
     "metadata": {},
     "output_type": "execute_result"
    }
   ],
   "source": [
    "greeting.title()"
   ]
  },
  {
   "cell_type": "markdown",
   "metadata": {},
   "source": [
    "นำตัวอักษรไปแทนตัวอักษรเดิมด้วย .replace()"
   ]
  },
  {
   "cell_type": "markdown",
   "metadata": {},
   "source": [
    "โดยจะใส่ argument ลงไป 2 อย่าง นั่นคือตัวอักษรเดิม และตัวอักษรที่ต้องการนำไปทดแทนในตำแหน่งของตัวอักษรเดิม"
   ]
  },
  {
   "cell_type": "code",
   "execution_count": 18,
   "metadata": {},
   "outputs": [
    {
     "data": {
      "text/plain": [
       "'hellO wOrld'"
      ]
     },
     "execution_count": 18,
     "metadata": {},
     "output_type": "execute_result"
    }
   ],
   "source": [
    "greeting.replace('o','O')"
   ]
  }
 ],
 "metadata": {
  "kernelspec": {
   "display_name": "Python 3",
   "language": "python",
   "name": "python3"
  },
  "language_info": {
   "codemirror_mode": {
    "name": "ipython",
    "version": 3
   },
   "file_extension": ".py",
   "mimetype": "text/x-python",
   "name": "python",
   "nbconvert_exporter": "python",
   "pygments_lexer": "ipython3",
   "version": "3.7.7"
  }
 },
 "nbformat": 4,
 "nbformat_minor": 4
}
