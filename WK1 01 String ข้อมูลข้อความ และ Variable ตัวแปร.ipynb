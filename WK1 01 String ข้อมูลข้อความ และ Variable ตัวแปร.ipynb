{
 "cells": [
  {
   "cell_type": "markdown",
   "metadata": {},
   "source": [
    "# String ข้อมูลตัวอักษร"
   ]
  },
  {
   "cell_type": "markdown",
   "metadata": {},
   "source": [
    "ในการทำงานกับ Python จะมีที่มาของข้อมูลหลักๆ อยู่ 2 ทาง คือ 1) ข้อมูลที่ถูกสร้างขึ้น 2) ข้อมูลที่นำเข้ามาจากที่อื่น ซึ่งในบทแรกๆ เราจะเน้นไปที่การสร้างข้อมูลขึ้นมาเนื่องจากสามารถทำได้ทันที โดยไม่ต้องใช้เครื่องมือใดๆ "
   ]
  },
  {
   "cell_type": "markdown",
   "metadata": {
    "tags": []
   },
   "source": [
    "## การสร้างข้อมูล ที่เก็บไว้ใน string object"
   ]
  },
  {
   "cell_type": "markdown",
   "metadata": {},
   "source": [
    "สำหรับข้อมูลใน python จะต้องมีการใส่เข้าไปใน object เพื่อให้มีการบันทึก และนำมาใช้ได้เสมอ ซึ่งการระบุว่าข้อมูลอยู่ในรูปแบบอะไรนั้น จะใช้สัญลักษณ์ที่บ่งชี้ที่สัญลักษณ์นั้นจะใช้เป็นทั้งเครื่องมือในการสร้าง object นั้นๆ และใช้เป็นจุดสังเกตอีกด้วย"
   ]
  },
  {
   "cell_type": "markdown",
   "metadata": {},
   "source": [
    "สำหรับการสร้าง string จะใช้ ' ' หรือ \" \" ครอบข้อมูลที่เป็นตัวอักษรที่เกิดจากการกดคีย์บอร์ด 1 ครั้ง เอาไว้ด้านในเอาไว้เพื่อระบุว่า ข้อมูลด้านในอยู่ในรูปแบบของ string object ซึ่งข้อมูลที่จะอยู่ใน string object จะเป็นตัวหนังสือในภาษาใด ตัวเลข สัญลักษณ์พิเศษ หรือ เว้นวรรคก็นับเป็น 1 จำนวนข้อมูลเท่ากันทั้งสิ้น"
   ]
  },
  {
   "cell_type": "markdown",
   "metadata": {},
   "source": [
    "### ข้อมูลข้อความ hello world ที่อยู่ใน string object"
   ]
  },
  {
   "cell_type": "markdown",
   "metadata": {},
   "source": [
    "ใช้ ' '"
   ]
  },
  {
   "cell_type": "code",
   "execution_count": 9,
   "metadata": {},
   "outputs": [
    {
     "data": {
      "text/plain": [
       "'hello world'"
      ]
     },
     "execution_count": 9,
     "metadata": {},
     "output_type": "execute_result"
    }
   ],
   "source": [
    "'hello world'"
   ]
  },
  {
   "cell_type": "markdown",
   "metadata": {},
   "source": [
    "ใช้ \" \""
   ]
  },
  {
   "cell_type": "code",
   "execution_count": 10,
   "metadata": {},
   "outputs": [
    {
     "data": {
      "text/plain": [
       "'hello world'"
      ]
     },
     "execution_count": 10,
     "metadata": {},
     "output_type": "execute_result"
    }
   ],
   "source": [
    "\"hello world\""
   ]
  },
  {
   "cell_type": "markdown",
   "metadata": {},
   "source": [
    "### ข้อสังเกต"
   ]
  },
  {
   "cell_type": "markdown",
   "metadata": {},
   "source": [
    "สำหรับสัญลักษณ์บ่งชี้ประเภท object จะมีการจับในลักษณะของการวางสัญลักษณ์ที่ด้านหน้าสุด และด้านหลังสุดของโค้ดที่เขียนลงไป ทำให้มีลักษณะเหมือนกล่องที่คอยเก็บข้อมูลประเภทใดประเภทหนึ่งเอาไว้ด้วยกัน"
   ]
  },
  {
   "cell_type": "markdown",
   "metadata": {},
   "source": [
    "การที่มีให้เลือกใช้ทั้ง ' ' และ \" \" จึงทำให้เกิดความยืดหยุ่นในการใช้งานมากขึ้น เนื่องจาก ' , \" เองก็สามารถเป็นส่วนหนึ่งของข้อมูลได้เช่นเดียวกัน"
   ]
  },
  {
   "cell_type": "markdown",
   "metadata": {},
   "source": [
    "ข้อความ I'm studying Python ในรูปแบบของ string object หากมีการใช้ \" \" อย่างเหมาะสม จะทำให้เราสามารถเก็บตัว ' เป็นข้อมูลใน string ได้ครบถ้วน มีการครอบของกล่องอย่างถูกต้อง"
   ]
  },
  {
   "cell_type": "code",
   "execution_count": 11,
   "metadata": {},
   "outputs": [
    {
     "data": {
      "text/plain": [
       "\"I'm studying Python\""
      ]
     },
     "execution_count": 11,
     "metadata": {},
     "output_type": "execute_result"
    }
   ],
   "source": [
    "\"I'm studying Python\""
   ]
  },
  {
   "cell_type": "markdown",
   "metadata": {},
   "source": [
    "หากมีการใช้ ' อย่างไม่เหมาะสม อาจเกิดปัญหาที่ Python พยายามจับคู่ ' ' เพื่อสร้างกล่องเก็บข้อมูล และทำให้เกิด error คือคำสั่งผิดพลาดได้"
   ]
  },
  {
   "cell_type": "code",
   "execution_count": null,
   "metadata": {},
   "outputs": [],
   "source": [
    "'I'm studying Python'"
   ]
  },
  {
   "cell_type": "markdown",
   "metadata": {},
   "source": [
    "## การดึงข้อมูลจาก object"
   ]
  },
  {
   "cell_type": "markdown",
   "metadata": {},
   "source": [
    "สำหรับข้อมูลใน string object ที่เป็นตัวอักษรแยกแต่ละตัว สามารถใช้สัญลักษณ์ หรือคำสั่งเพื่อดึงข้อมูลเพียงบางส่วนออกมาเพื่อทำงานด้วยได้ โดยการระบุ index ของข้อมูลที่ต้องการซึ่งสำหรับ string แล้ว index คือตำแหน่งของข้อมูลที่เก็บไว้ใน string นั่นเอง"
   ]
  },
  {
   "cell_type": "markdown",
   "metadata": {},
   "source": [
    "### index"
   ]
  },
  {
   "cell_type": "markdown",
   "metadata": {},
   "source": [
    "index จริงๆ แล้วเป็นเพียงคำที่ใช้เรียกสิ่งที่ใช้ระบุตัวตนของข้อมูล ซึ่งการเก็บ จัดการข้อมูลแต่ละแบบจะใช้ระบบ index ไม่เหมือนกัน แต่ข้อมูลหลายๆ ประเภทจะมี index ประจำตัวที่สามารถใช้เรียกดึงข้อมูลออกจาก object หรือข้อมูลทั้งหมดได้"
   ]
  },
  {
   "cell_type": "markdown",
   "metadata": {},
   "source": [
    "สำหรับ string จะใช้ index เป็นตำแหน่งของข้อมูลซึ่งจะนับจากด้านซ้ายไปขวา อักษรที่อยู่ด้านซ้ายที่สุดหรือ ตัวอักษรตัวแรกจะใช้ index เป็นค่า 0 และไล่ลำดับมาด้านขวา เช่นการดึง เว้นวรรคออกจากคำว่า hello world คือใช้ index ที่ 5 (ในตำแหน่งที่ 6)"
   ]
  },
  {
   "cell_type": "code",
   "execution_count": 12,
   "metadata": {
    "scrolled": true
   },
   "outputs": [
    {
     "data": {
      "text/plain": [
       "' '"
      ]
     },
     "execution_count": 12,
     "metadata": {},
     "output_type": "execute_result"
    }
   ],
   "source": [
    "'hello world'[5]"
   ]
  },
  {
   "cell_type": "markdown",
   "metadata": {},
   "source": [
    "นอกจากนี้ index ของ string ที่อ้างอิงจากตำแหน่งยังสามารถอ้างอิงจากตำแหน่งของข้อมูลที่อยู่ด้านขวาที่สุดไล่มาทางด้านซ้ายที่สุดได้อีกด้วย ซึ่ง index ในด้านขวามากที่สุดจะมีค่า -1 และไล่เป็น -2 -3 ตามลำดับจากขวามาซ้าย เช่นหากดึงตัว w จากคำว่า hello world เราจะใช้ index ที่ -5 (ตัวที่ 5 จากด้านขวา)"
   ]
  },
  {
   "cell_type": "code",
   "execution_count": 13,
   "metadata": {},
   "outputs": [
    {
     "data": {
      "text/plain": [
       "'w'"
      ]
     },
     "execution_count": 13,
     "metadata": {},
     "output_type": "execute_result"
    }
   ],
   "source": [
    "'hello world'[-5]"
   ]
  },
  {
   "cell_type": "markdown",
   "metadata": {},
   "source": [
    "### การดึงข้อมูลเป็นช่วง"
   ]
  },
  {
   "cell_type": "markdown",
   "metadata": {},
   "source": [
    "สำหรับข้อมูลทั้งหมดที่อยู่ใน string object สามารถเลือกดึงหลายๆ ข้อมูลพร้อมกันได้ โดยการกำหนด 3 ค่า คือ 1) ตำแหน่งเริ่มต้น 2) ตำแหน่งสิ้นสุด 3) step การนับ หรือเรียกว่าเป็น start stop step ซึ่ง start stop จะเป็น index ที่ใช้กำหนดว่าจะดึงข้อมูลจากตำแหน่งไหนถึงตำแหน่งไหน"
   ]
  },
  {
   "cell_type": "markdown",
   "metadata": {},
   "source": [
    "ส่วน step คือจำนวนข้อมูลที่บอกว่า ทุกๆ กี่ข้อมูลจะดึงข้อมูลออกมา 1 ตัว เช่น ทุกๆ 2 ตัวอักษรจะดึง 1 ตัวอักษรออกมา จะใช้ step เป็น 2 โดย การใช้ start stop step มีส่วนที่ต้องทำเพิ่มจากการดึงข้อมูลด้วย index ธรรมดาคือการใช้สัญลักษณ์ : ในการคั่นในลักษณะดังนี้ start:stop:step เช่น การดึงข้อมูลจาก index ที่ 0 ถึง index ที่ 3 โดยดึงทุกข้อมูล (ดึงตัวอักษรทุก 1 ตัว)"
   ]
  },
  {
   "cell_type": "code",
   "execution_count": 14,
   "metadata": {},
   "outputs": [
    {
     "data": {
      "text/plain": [
       "'hel'"
      ]
     },
     "execution_count": 14,
     "metadata": {},
     "output_type": "execute_result"
    }
   ],
   "source": [
    "'hello world'[0:3:1]"
   ]
  },
  {
   "cell_type": "markdown",
   "metadata": {},
   "source": [
    "สำหรับการดึงข้อมูลทุก 2 ตัว หรือ step เป็น 2 ก็จะทำการไล่ลำดับข้อมูลจากซ้ายไปขวา และในทุกข้อมูล 2 ข้อมูลจะดึงข้อมูลตัวแรกออกมา เช่น 'he' 'll' 'o ' เมื่อดึงข้อมูลก็จะได้ 'hlo'"
   ]
  },
  {
   "cell_type": "code",
   "execution_count": 16,
   "metadata": {},
   "outputs": [
    {
     "data": {
      "text/plain": [
       "'hlo'"
      ]
     },
     "execution_count": 16,
     "metadata": {},
     "output_type": "execute_result"
    }
   ],
   "source": [
    "'hello world'[0:6:2]"
   ]
  },
  {
   "cell_type": "markdown",
   "metadata": {},
   "source": [
    "เช่นเดียวกับ index ที่สามารถใส่จำนวนลบเพื่ออ้างอิงข้อมูลจากด้านขวามาด้านซ้ายได้ เราสามารถนับ step เป็นค่าติดลบได้เช่นเดียวกัน ซึ่งค่าติดลบของ step จะเป็นตัวแทนของทิศทางในการนับ เช่น หาก step เป็น 1 คือการดึงข้อมูลทุกตัวจากซ้ายไปขวา แต่ step เป็น -1 คือการดึงข้อมูลทุกตัวจากขวาไปซ้าย"
   ]
  },
  {
   "cell_type": "code",
   "execution_count": 18,
   "metadata": {},
   "outputs": [
    {
     "data": {
      "text/plain": [
       "'dlrow'"
      ]
     },
     "execution_count": 18,
     "metadata": {},
     "output_type": "execute_result"
    }
   ],
   "source": [
    "'hello world'[-1:-6:-1]"
   ]
  },
  {
   "cell_type": "markdown",
   "metadata": {},
   "source": [
    "### ข้อสังเกต"
   ]
  },
  {
   "cell_type": "markdown",
   "metadata": {},
   "source": [
    "การดึงข้อมูลด้วย start stop step นั้นจะมีการดึงข้อมูลที่ตำแหน่งของ start แต่จะไม่ดึงข้อมูลที่ตำแหน่ง stop จะต้องมีการเพื่อตำแหน่งไป 1 ตำแหน่งเพื่อให้ได้ข้อมูลที่ต้องการ"
   ]
  },
  {
   "cell_type": "markdown",
   "metadata": {},
   "source": [
    "อีกข้อสังเกตคือ ข้อมูล start stop step นั้น สามารถเลือกไม่ใส่ได้ ซึ่งหากเลือกไม่ใส่ในตำแหน่ง start จะเป็นการดึงข้อมูลตั้งแต่ตัวแรก หากไม่ใช่ในตำแหน่ง stop จะเป็นการดึงข้อมูลจนถึงตัวสุดท้าย และหากไม่ใส่ตำแหน่ง step จะเป็นการดึงข้อมูลทุกตัว"
   ]
  },
  {
   "cell_type": "code",
   "execution_count": 15,
   "metadata": {},
   "outputs": [
    {
     "data": {
      "text/plain": [
       "'hello world'"
      ]
     },
     "execution_count": 15,
     "metadata": {},
     "output_type": "execute_result"
    }
   ],
   "source": [
    "'hello world'[::]"
   ]
  },
  {
   "cell_type": "markdown",
   "metadata": {},
   "source": [
    "# Variable ตัวแปร"
   ]
  },
  {
   "cell_type": "markdown",
   "metadata": {},
   "source": [
    "เมื่อมีการสร้างข้อมูล หรือนำเข้าข้อมูลมาใช้งาน เพื่อให้เราสามารถเรียกใช้ข้อมูลดังกล่าวได้อีกง่ายๆ จะต้องมีการบันทึกข้อมูลดังกล่าวลงสิ่งที่เรียกว่าตัวแปร ซึ่งหากเปรียบเทียบให้เห็นภาพ ตัวแปรอาจเทียบได้กับถังน้ำ ที่เราสามารถนำข้อมูลใดๆ ไปใส่เอาไว้ได้ และหยิบออกมาใช้ได้เมื่อต้องการ"
   ]
  },
  {
   "cell_type": "markdown",
   "metadata": {},
   "source": [
    "## การประกาศตัวแปร"
   ]
  },
  {
   "cell_type": "markdown",
   "metadata": {},
   "source": [
    "ในการใช้ตัวแปรใดๆ จะเริ่มต้นจากการสร้างตัวแปร หรือการนำข้อมูลมาใส่ตัวแปรที่สนใจเพื่อนำข้อมูลดังกล่าวไปใช้ต่อในอนาคต ซึ่งการบันทึกข้อมูลลงตัวแปร หรือการสร้างตัวแปร จะมีชื่อเรียกทางการว่า การประกาศตัวแปร"
   ]
  },
  {
   "cell_type": "markdown",
   "metadata": {},
   "source": [
    "ซึ่งการประกาศตัวแปรจะประกอบไปด้วยการเลือกชื่อที่ต้องการ และการนำข้อมูลที่ต้องการไปใส่ในชื่อที่เลือกเอาไว้เช่น การตั้งตัวแปรชื่อว่า greeting ที่เก็บ string object ที่มีคำว่า hello world เก็บเอาไว้เขียนได้ดังนี้"
   ]
  },
  {
   "cell_type": "code",
   "execution_count": 1,
   "metadata": {},
   "outputs": [],
   "source": [
    "greeting = 'hello world'"
   ]
  },
  {
   "cell_type": "markdown",
   "metadata": {},
   "source": [
    "### ข้อสังเกต"
   ]
  },
  {
   "cell_type": "markdown",
   "metadata": {},
   "source": [
    "การประกาศตัวแปรจะประกอบไปด้วย ชื่อตัวแปร = ข้อมูลที่ต้องดาร ซึ่งการเขียนชื่อตัวแปรไม่ใช้สัญลักษณ์พิเศษใดๆ ครอบไว้ ต่างจากข้อมูลที่ต้องการนำไปใส่ตัวแปรที่ต้องมีสัญลักษณ์บ่งบอกว่าจะใช้เป็น object ประเภทอะไร"
   ]
  },
  {
   "cell_type": "markdown",
   "metadata": {},
   "source": [
    "## การใช้งานตัวแปร"
   ]
  },
  {
   "cell_type": "markdown",
   "metadata": {},
   "source": [
    "สำหรับตัวแปรที่ประกาศแล้ว เราสามารถเรียกชื่อตัวแปรเพื่อเรียกถึงข้อมูลที่ตัวแปรนั้นเก็บเอาไว้ได้ และนำไปใช้เสมือนเราใช้งานตัวข้อมูลโดยตรง เช่นการดึงข้อมูลจาก string object hello world ผ่านตัวแปร greeting"
   ]
  },
  {
   "cell_type": "code",
   "execution_count": 3,
   "metadata": {},
   "outputs": [
    {
     "data": {
      "text/plain": [
       "'dlrow'"
      ]
     },
     "execution_count": 3,
     "metadata": {},
     "output_type": "execute_result"
    }
   ],
   "source": [
    "greeting[-1:-6:-1]"
   ]
  },
  {
   "cell_type": "markdown",
   "metadata": {},
   "source": [
    "## สิ่งที่เกิดขึ้นเมื่อเกิดการประกาศตัวแปร"
   ]
  },
  {
   "cell_type": "markdown",
   "metadata": {},
   "source": [
    "รวมไปถึงการเขียนโค้ดโดยทั่วไป เมื่อมีการทำงานหลายๆ ส่วนประกอบเข้าด้วยกันจะต้องทำความเข้าใจว่าลำดับการทำงานของโค้ดทำอย่างไร อะไรเกิดก่อนหลังบ้าน สำหรับการประกาศตัวแปร สิ่งที่เกิดขึ้นจริงๆ คือ การสร้าง หรือนำข้อมูลจากทางด้านขวาของ = นำผลลัพธ์ที่ได้ ใส่ไปในตัวแปรทางด้านซ้าย"
   ]
  },
  {
   "cell_type": "markdown",
   "metadata": {},
   "source": [
    "ซึ่งที่ตัวอย่างเราสามารถนำตัวแปร greeting มาใช้งานเสมือนเป็น string object hello world นั่นก็เพราะคำสั่งทางด้านขวาของ = เป็นคำสั่งที่สร้างข้อมูล string hello world ออกมา และนำไปใส่ตัวแปร greeting นั่นเอง"
   ]
  },
  {
   "cell_type": "markdown",
   "metadata": {},
   "source": [
    "## แบบฝึกหัดทดสอบความเข้าใจ"
   ]
  },
  {
   "cell_type": "markdown",
   "metadata": {},
   "source": [
    "ดึงข้อมูลจาก string object ที่เก็บคำว่า hello world ให้ได้ตามข้อมูลที่กำหนดต่อไปนี้"
   ]
  },
  {
   "cell_type": "markdown",
   "metadata": {},
   "source": [
    "### 1) 'ello'"
   ]
  },
  {
   "cell_type": "code",
   "execution_count": null,
   "metadata": {},
   "outputs": [],
   "source": []
  },
  {
   "cell_type": "markdown",
   "metadata": {},
   "source": [
    "### 2) 'hlw'"
   ]
  },
  {
   "cell_type": "code",
   "execution_count": null,
   "metadata": {},
   "outputs": [],
   "source": []
  },
  {
   "cell_type": "markdown",
   "metadata": {},
   "source": [
    "### 3) 'dlrow'"
   ]
  },
  {
   "cell_type": "code",
   "execution_count": null,
   "metadata": {},
   "outputs": [],
   "source": []
  }
 ],
 "metadata": {
  "kernelspec": {
   "display_name": "Python 3",
   "language": "python",
   "name": "python3"
  },
  "language_info": {
   "codemirror_mode": {
    "name": "ipython",
    "version": 3
   },
   "file_extension": ".py",
   "mimetype": "text/x-python",
   "name": "python",
   "nbconvert_exporter": "python",
   "pygments_lexer": "ipython3",
   "version": "3.7.7"
  }
 },
 "nbformat": 4,
 "nbformat_minor": 4
}
