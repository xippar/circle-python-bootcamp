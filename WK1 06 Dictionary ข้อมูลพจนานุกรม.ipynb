{
 "cells": [
  {
   "cell_type": "markdown",
   "metadata": {},
   "source": [
    "# Dictionary ข้อมูลพจนานุกรม"
   ]
  },
  {
   "cell_type": "markdown",
   "metadata": {},
   "source": [
    "เป็นการบันทึกข้อมูลลงโครงสร้างข้อมูลที่มีการจัดเก็บข้อมูลด้วยหมวดหมู่ ลักษณะคล้ายพจนานุกรมที่มีการเก็บข้อมูลเป็นหมวดหมู่ ที่แบ่งคำออกเป็นตัวอักษรตัวแรก โดยเราจะใช้หมวดหมู่เป็น index สำหรับการดึงข้อมูลออกจา Dictionary"
   ]
  },
  {
   "cell_type": "markdown",
   "metadata": {},
   "source": [
    "## โครงสร้างของ Dictionary"
   ]
  },
  {
   "cell_type": "markdown",
   "metadata": {},
   "source": [
    "Dictionary จะประกอบไปด้วยข้อมูล 2 ส่วนคือ key และ value นั่นคือ โดย key คือหมวดหมู่ที่ใช้เรียกหาข้อมูล value คือข้อมูลที่เก็บอยู่ที่มีการผูกไว้กับ key ซึ่งเดี๋ยวเราจะยกตัวอย่างให้เห็นประโยชน์ของ dictionary อีกครั้ง แต่เราจะลองมาดู dictionary ง่ายๆ ใช้ชื่อเล่นเป็น key และชื่อจริงเป็น value กัน"
   ]
  },
  {
   "cell_type": "markdown",
   "metadata": {},
   "source": [
    "โดยโครงสร้างการสร้าง dictionary จะใช้สัญลักษณ์ { } สำหรับการสร้าง และวาง key value ในลักษณะนี้ {key_1:value_1} ซึ่งหากมีหลายข้อมูลให้นำข้อมูล หรือ key-value pair เข้าไปใส่เพิ่มโดยใช้ , คั่น เช่น {key_1:value_1, key_2:value_2}"
   ]
  },
  {
   "cell_type": "markdown",
   "metadata": {},
   "source": [
    "การสร้าง dict ด้วยคำสั่ง dict()"
   ]
  },
  {
   "cell_type": "code",
   "execution_count": 16,
   "metadata": {},
   "outputs": [
    {
     "data": {
      "text/plain": [
       "{}"
      ]
     },
     "execution_count": 16,
     "metadata": {},
     "output_type": "execute_result"
    }
   ],
   "source": [
    "dict()"
   ]
  },
  {
   "cell_type": "markdown",
   "metadata": {},
   "source": [
    "dictionary ที่เก็บข้อมูลชื่อเล่นเป็น key ชื่อจริงเป็น value"
   ]
  },
  {
   "cell_type": "code",
   "execution_count": 3,
   "metadata": {},
   "outputs": [
    {
     "data": {
      "text/plain": [
       "{'xippar': 'sippanon wichiramala', 'Too': 'Pracha Janoyut'}"
      ]
     },
     "execution_count": 3,
     "metadata": {},
     "output_type": "execute_result"
    }
   ],
   "source": [
    "name_dict = {'xippar':'sippanon wichiramala','Too':'Pracha Janoyut'}\n",
    "name_dict"
   ]
  },
  {
   "cell_type": "markdown",
   "metadata": {},
   "source": [
    "## การทำงานกับข้อมูลใน dictionary"
   ]
  },
  {
   "cell_type": "markdown",
   "metadata": {},
   "source": [
    "จะใช้การระบุ key ร่วมกับ [ ] เพื่อใช้ดึง value ที่ผูกกับตัว key นั้นๆ อยู่ โดย value สามารถเก็บเป็นข้อมูลใดๆ ก็ได้ ทำให้ Dictionary ได้รับความนิยมทั้งการเก็บข้อมูลที่จับเป็นคู่ และข้อมูลที่มีความซับซ้อน จำนวนมากๆ"
   ]
  },
  {
   "cell_type": "markdown",
   "metadata": {},
   "source": [
    "### การดึงข้อมูลที่มีอยู่ใน dictionary"
   ]
  },
  {
   "cell_type": "markdown",
   "metadata": {},
   "source": [
    "สามารถใช้ key และ [ ] ระบุข้อมูลที่ต้องการได้เลย"
   ]
  },
  {
   "cell_type": "code",
   "execution_count": 5,
   "metadata": {
    "scrolled": true
   },
   "outputs": [
    {
     "data": {
      "text/plain": [
       "'sippanon wichiramala'"
      ]
     },
     "execution_count": 5,
     "metadata": {},
     "output_type": "execute_result"
    }
   ],
   "source": [
    "name_dict['xippar']"
   ]
  },
  {
   "cell_type": "markdown",
   "metadata": {},
   "source": [
    "### การใส่ key-value ลง dictionary"
   ]
  },
  {
   "cell_type": "markdown",
   "metadata": {},
   "source": [
    "สำหรับการใส่ข้อมูลใหม่ลงไปจะทำการคล้ายๆ การดึงข้อมูลที่สนใจ แต่ให้กำหนดเป็น key ใดๆ ก็ได้ และมีลักษณะการเขียนคล้ายๆ การสร้างตัวแปรที่ใช้ = value เพื่อกำหนด value ใส่เข้าไปใน key ที่สนใจ"
   ]
  },
  {
   "cell_type": "markdown",
   "metadata": {},
   "source": [
    "เพิ่มข้อมูล key-value เข้า dictionary"
   ]
  },
  {
   "cell_type": "code",
   "execution_count": 6,
   "metadata": {
    "scrolled": false
   },
   "outputs": [],
   "source": [
    "name_dict['vit'] = 'plawan wongglom'"
   ]
  },
  {
   "cell_type": "markdown",
   "metadata": {},
   "source": [
    "เรียกดู dictionary"
   ]
  },
  {
   "cell_type": "code",
   "execution_count": 7,
   "metadata": {},
   "outputs": [
    {
     "data": {
      "text/plain": [
       "{'xippar': 'sippanon wichiramala',\n",
       " 'Too': 'Pracha Janoyut',\n",
       " 'vit': 'plawan wongglom'}"
      ]
     },
     "execution_count": 7,
     "metadata": {},
     "output_type": "execute_result"
    }
   ],
   "source": [
    "name_dict"
   ]
  },
  {
   "cell_type": "markdown",
   "metadata": {},
   "source": [
    "### การนำข้อมูลออกจาก dictionary"
   ]
  },
  {
   "cell_type": "markdown",
   "metadata": {},
   "source": [
    "สำหรับการนำข้อมูลออกจะใช้ .pop() ที่ระบุ key ที่ต้องการเอาออก"
   ]
  },
  {
   "cell_type": "code",
   "execution_count": 14,
   "metadata": {},
   "outputs": [
    {
     "data": {
      "text/plain": [
       "'sippanon wichiramala'"
      ]
     },
     "execution_count": 14,
     "metadata": {},
     "output_type": "execute_result"
    }
   ],
   "source": [
    "name_dict.pop('xippar')"
   ]
  },
  {
   "cell_type": "markdown",
   "metadata": {},
   "source": [
    "เรียก name_dict เพื่อแสดงข้อมูล"
   ]
  },
  {
   "cell_type": "code",
   "execution_count": 15,
   "metadata": {},
   "outputs": [
    {
     "data": {
      "text/plain": [
       "{'Too': 'Pracha Janoyut', 'vit': 'plawan wongglom', 'noo': 'anuwat chanbin'}"
      ]
     },
     "execution_count": 15,
     "metadata": {},
     "output_type": "execute_result"
    }
   ],
   "source": [
    "name_dict"
   ]
  },
  {
   "cell_type": "markdown",
   "metadata": {},
   "source": [
    "### การกำหนดค่าสำหรับการดึงที่ไม่เจอ key"
   ]
  },
  {
   "cell_type": "markdown",
   "metadata": {},
   "source": [
    "หากเราดึงข้อมูลที่ไม่มีอยู่ใน dictionary จะทำให้เกิด error หาก key นั้นๆ ยังไม่ปรากฎ เราสามารถใช้ method .get() เพื่อเลือกดึง key ที่สนใจ แต่ในขณะเดียวกันหากไม่มีข้อมูลนั้นอยู่ให้แสดงข้อมูลที่ต้องการออกมาแทน"
   ]
  },
  {
   "cell_type": "markdown",
   "metadata": {},
   "source": [
    "การใช้ .get() เพื่อกำหนดค่าที่ต้องการหาก key ไม่มีอยู่ใน dictionary"
   ]
  },
  {
   "cell_type": "code",
   "execution_count": 8,
   "metadata": {
    "scrolled": false
   },
   "outputs": [
    {
     "data": {
      "text/plain": [
       "'anuwat chanbin'"
      ]
     },
     "execution_count": 8,
     "metadata": {},
     "output_type": "execute_result"
    }
   ],
   "source": [
    "name_dict.get('noo','anuwat chanbin')"
   ]
  },
  {
   "cell_type": "markdown",
   "metadata": {},
   "source": [
    "แต่การใช้ .get() ไม่มีการเสริมข้อมูลเข้าไปใหม่"
   ]
  },
  {
   "cell_type": "code",
   "execution_count": 10,
   "metadata": {},
   "outputs": [
    {
     "data": {
      "text/plain": [
       "{'xippar': 'sippanon wichiramala',\n",
       " 'Too': 'Pracha Janoyut',\n",
       " 'vit': 'plawan wongglom'}"
      ]
     },
     "execution_count": 10,
     "metadata": {},
     "output_type": "execute_result"
    }
   ],
   "source": [
    "name_dict"
   ]
  },
  {
   "cell_type": "markdown",
   "metadata": {},
   "source": [
    "สำหรับการสร้างข้อมูลทันทีหากไม่มีข้อมูลอาจเขียนได้ลักษณะนี้ ที่หมายความว่าให้ลองดึงข้อมูลที่ต้องการหากไม่มีให้นำข้อมูลที่กำหนดมาแทน และบันทึกลงไปใน key ที่ต้องการ"
   ]
  },
  {
   "cell_type": "code",
   "execution_count": 11,
   "metadata": {},
   "outputs": [],
   "source": [
    "name_dict['noo'] = name_dict.get('noo','anuwat chanbin')"
   ]
  },
  {
   "cell_type": "markdown",
   "metadata": {},
   "source": [
    "เรียน dictionary ดูผลลัพธ์"
   ]
  },
  {
   "cell_type": "code",
   "execution_count": 12,
   "metadata": {},
   "outputs": [
    {
     "data": {
      "text/plain": [
       "{'xippar': 'sippanon wichiramala',\n",
       " 'Too': 'Pracha Janoyut',\n",
       " 'vit': 'plawan wongglom',\n",
       " 'noo': 'anuwat chanbin'}"
      ]
     },
     "execution_count": 12,
     "metadata": {},
     "output_type": "execute_result"
    }
   ],
   "source": [
    "name_dict"
   ]
  }
 ],
 "metadata": {
  "kernelspec": {
   "display_name": "Python 3",
   "language": "python",
   "name": "python3"
  },
  "language_info": {
   "codemirror_mode": {
    "name": "ipython",
    "version": 3
   },
   "file_extension": ".py",
   "mimetype": "text/x-python",
   "name": "python",
   "nbconvert_exporter": "python",
   "pygments_lexer": "ipython3",
   "version": "3.7.7"
  }
 },
 "nbformat": 4,
 "nbformat_minor": 4
}
